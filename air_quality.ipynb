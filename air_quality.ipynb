{
 "cells": [
  {
   "cell_type": "markdown",
   "id": "4f0b82c3-682b-4f49-ab6f-b01e9617c094",
   "metadata": {},
   "source": [
    "<h1> AutoReg</h1>\n",
    "\n",
    "<h2>Xt = C + ϕ1 Xt-1 + ϕ2 Xt-2 + ϵt</h2>\n",
    "<h3>An autoregressive (AR) model, often denoted as AR(p), is a statistical time series model used for modeling and forecasting time series data. It's a type of linear regression model that relates a current observation in a time series to past observations. Specifically, an AR(p) model uses the past p observations (lags) of the time series to predict the current value.\n",
    "\n",
    "1. “t” represents today and we have weekly values, then “t-1” represents last week. Hence, Xt-1 depicts the value recorded a week ago\n",
    "2. \"c\" is the constant term\n",
    "3. \"ϕ\" the autoregressive coefficients that determine the relationship between the current value and the past p values.\n",
    "4. \"ϵt\" is a white noise error term assumed to be normally distributed with mean zero and constant variance."
   ]
  },
  {
   "cell_type": "code",
   "execution_count": 93,
   "id": "d914bc84-2f94-4c17-bed7-1e9d2617d2fa",
   "metadata": {},
   "outputs": [],
   "source": [
    "from pymongo import MongoClient\n",
    "import pandas as pd"
   ]
  },
  {
   "cell_type": "code",
   "execution_count": 94,
   "id": "61f8415b-0a62-4607-8863-a57d4a0b4ef3",
   "metadata": {},
   "outputs": [],
   "source": [
    "client = MongoClient(host='localhost', port=27017)\n",
    "db = client['Indian_Cities_Air_Quality']\n",
    "dar = db['collection']"
   ]
  },
  {
   "cell_type": "markdown",
   "id": "9b5bbacd-c385-4806-b212-81cfc5feac90",
   "metadata": {},
   "source": [
    "/kaggle/input/india-city-air-quality-index/India_city_polution_data.json"
   ]
  },
  {
   "cell_type": "code",
   "execution_count": 127,
   "id": "e2444f4c-45cd-41d4-bdeb-768821776858",
   "metadata": {},
   "outputs": [],
   "source": [
    "sites = dar.distinct(\"id\")"
   ]
  },
  {
   "cell_type": "code",
   "execution_count": 96,
   "id": "50a5b3a2-aac8-49b2-b620-997b144eb783",
   "metadata": {},
   "outputs": [
    {
     "data": {
      "text/plain": [
       "['Andhra_Pradesh',\n",
       " 'Arunachal_Pradesh',\n",
       " 'Assam',\n",
       " 'Bihar',\n",
       " 'Chandigarh',\n",
       " 'Chhattisgarh',\n",
       " 'Delhi',\n",
       " 'Gujarat',\n",
       " 'Haryana',\n",
       " 'Jammu_&_Kashmir',\n",
       " 'Jharkhand',\n",
       " 'Karnataka',\n",
       " 'Kerala',\n",
       " 'Madhya Pradesh',\n",
       " 'Maharashtra',\n",
       " 'Meghalaya',\n",
       " 'Mizoram',\n",
       " 'Nagaland',\n",
       " 'Odisha',\n",
       " 'Puducherry',\n",
       " 'Punjab',\n",
       " 'Rajasthan',\n",
       " 'TamilNadu',\n",
       " 'Telangana',\n",
       " 'Tripura',\n",
       " 'Uttar_Pradesh',\n",
       " 'West_Bengal']"
      ]
     },
     "execution_count": 96,
     "metadata": {},
     "output_type": "execute_result"
    }
   ],
   "source": [
    "sites"
   ]
  },
  {
   "cell_type": "code",
   "execution_count": 97,
   "id": "baa5c617-6a22-4575-9b80-f2be046c87d4",
   "metadata": {},
   "outputs": [],
   "source": [
    "result = dar.aggregate(\n",
    "[\n",
    "    {\"$unwind\":\"$City\"},\n",
    "    {\"$unwind\":\"$City.Station.Pollutant_Index\"},\n",
    "    {\n",
    "        \"$project\": {\n",
    "            \"_id\":0,\n",
    "            \"State\":\"$id\",\n",
    "            \"City\": \"$City.id\",\n",
    "            \"Pollutant\": \"$City.Station.Pollutant_Index.id\",\n",
    "            \"Avg\": \"$City.Station.Pollutant_Index.Avg\",\n",
    "            \"Max\": \"$City.Station.Pollutant_Index.Max\",\n",
    "            \"Min\": \"$City.Station.Pollutant_Index.Min\",\n",
    "            \"Date\": {\n",
    "                \"$dateFromString\": {\n",
    "                    \"dateString\": \"$City.Station.lastupdate\",\n",
    "                    \"format\": \"%d-%m-%Y %H:%M:%S\"\n",
    "                }\n",
    "            }\n",
    "        }\n",
    "    }\n",
    "]\n",
    ")"
   ]
  },
  {
   "cell_type": "code",
   "execution_count": 98,
   "id": "be311326-2055-44a2-ae61-5cd8258a6487",
   "metadata": {},
   "outputs": [],
   "source": [
    "df = pd.DataFrame(list(result))"
   ]
  },
  {
   "cell_type": "code",
   "execution_count": 99,
   "id": "ff056564-a6ed-4bd3-9e6d-27532be8196c",
   "metadata": {},
   "outputs": [],
   "source": [
    "df['Date'] = pd.to_datetime(df['Date'])\n",
    "df['Date'] = df['Date'] + pd.to_timedelta(df.index, unit='h')"
   ]
  },
  {
   "cell_type": "code",
   "execution_count": 100,
   "id": "96b0f42d-2045-4b54-8818-70b43b34ddd0",
   "metadata": {},
   "outputs": [
    {
     "data": {
      "text/html": [
       "<div>\n",
       "<style scoped>\n",
       "    .dataframe tbody tr th:only-of-type {\n",
       "        vertical-align: middle;\n",
       "    }\n",
       "\n",
       "    .dataframe tbody tr th {\n",
       "        vertical-align: top;\n",
       "    }\n",
       "\n",
       "    .dataframe thead th {\n",
       "        text-align: right;\n",
       "    }\n",
       "</style>\n",
       "<table border=\"1\" class=\"dataframe\">\n",
       "  <thead>\n",
       "    <tr style=\"text-align: right;\">\n",
       "      <th></th>\n",
       "      <th>State</th>\n",
       "      <th>City</th>\n",
       "      <th>Pollutant</th>\n",
       "      <th>Avg</th>\n",
       "      <th>Max</th>\n",
       "      <th>Min</th>\n",
       "      <th>Date</th>\n",
       "    </tr>\n",
       "  </thead>\n",
       "  <tbody>\n",
       "    <tr>\n",
       "      <th>0</th>\n",
       "      <td>Andhra_Pradesh</td>\n",
       "      <td>Amaravati</td>\n",
       "      <td>PM2.5</td>\n",
       "      <td>30</td>\n",
       "      <td>70</td>\n",
       "      <td>10</td>\n",
       "      <td>2021-12-07 10:00:00</td>\n",
       "    </tr>\n",
       "    <tr>\n",
       "      <th>1</th>\n",
       "      <td>Andhra_Pradesh</td>\n",
       "      <td>Amaravati</td>\n",
       "      <td>PM10</td>\n",
       "      <td>43</td>\n",
       "      <td>88</td>\n",
       "      <td>12</td>\n",
       "      <td>2021-12-07 11:00:00</td>\n",
       "    </tr>\n",
       "    <tr>\n",
       "      <th>2</th>\n",
       "      <td>Andhra_Pradesh</td>\n",
       "      <td>Amaravati</td>\n",
       "      <td>NO2</td>\n",
       "      <td>19</td>\n",
       "      <td>33</td>\n",
       "      <td>7</td>\n",
       "      <td>2021-12-07 12:00:00</td>\n",
       "    </tr>\n",
       "    <tr>\n",
       "      <th>3</th>\n",
       "      <td>Andhra_Pradesh</td>\n",
       "      <td>Amaravati</td>\n",
       "      <td>NH3</td>\n",
       "      <td>3</td>\n",
       "      <td>4</td>\n",
       "      <td>2</td>\n",
       "      <td>2021-12-07 13:00:00</td>\n",
       "    </tr>\n",
       "    <tr>\n",
       "      <th>4</th>\n",
       "      <td>Andhra_Pradesh</td>\n",
       "      <td>Amaravati</td>\n",
       "      <td>SO2</td>\n",
       "      <td>29</td>\n",
       "      <td>108</td>\n",
       "      <td>13</td>\n",
       "      <td>2021-12-07 14:00:00</td>\n",
       "    </tr>\n",
       "  </tbody>\n",
       "</table>\n",
       "</div>"
      ],
      "text/plain": [
       "            State       City Pollutant Avg  Max Min                Date\n",
       "0  Andhra_Pradesh  Amaravati     PM2.5  30   70  10 2021-12-07 10:00:00\n",
       "1  Andhra_Pradesh  Amaravati      PM10  43   88  12 2021-12-07 11:00:00\n",
       "2  Andhra_Pradesh  Amaravati       NO2  19   33   7 2021-12-07 12:00:00\n",
       "3  Andhra_Pradesh  Amaravati       NH3   3    4   2 2021-12-07 13:00:00\n",
       "4  Andhra_Pradesh  Amaravati       SO2  29  108  13 2021-12-07 14:00:00"
      ]
     },
     "execution_count": 100,
     "metadata": {},
     "output_type": "execute_result"
    }
   ],
   "source": [
    "df.head()"
   ]
  },
  {
   "cell_type": "code",
   "execution_count": 101,
   "id": "8f539ebe-abd6-4c7e-93d3-37fcbbdf016d",
   "metadata": {},
   "outputs": [
    {
     "name": "stdout",
     "output_type": "stream",
     "text": [
      "(829, 7)\n",
      "<class 'pandas.core.frame.DataFrame'>\n",
      "RangeIndex: 829 entries, 0 to 828\n",
      "Data columns (total 7 columns):\n",
      " #   Column     Non-Null Count  Dtype         \n",
      "---  ------     --------------  -----         \n",
      " 0   State      829 non-null    object        \n",
      " 1   City       829 non-null    object        \n",
      " 2   Pollutant  829 non-null    object        \n",
      " 3   Avg        829 non-null    object        \n",
      " 4   Max        829 non-null    object        \n",
      " 5   Min        829 non-null    object        \n",
      " 6   Date       829 non-null    datetime64[ns]\n",
      "dtypes: datetime64[ns](1), object(6)\n",
      "memory usage: 45.5+ KB\n",
      "None\n"
     ]
    }
   ],
   "source": [
    "print(df.shape)\n",
    "print(df.info())"
   ]
  },
  {
   "cell_type": "code",
   "execution_count": 102,
   "id": "0a0252b6-a50e-48de-9f2e-a7db2ce01a09",
   "metadata": {},
   "outputs": [],
   "source": [
    "ts = df[df[\"Pollutant\"]==\"PM2.5\"]"
   ]
  },
  {
   "cell_type": "code",
   "execution_count": 103,
   "id": "af961a70-2dee-4026-9250-fb34ebe7e638",
   "metadata": {},
   "outputs": [
    {
     "data": {
      "text/html": [
       "<div>\n",
       "<style scoped>\n",
       "    .dataframe tbody tr th:only-of-type {\n",
       "        vertical-align: middle;\n",
       "    }\n",
       "\n",
       "    .dataframe tbody tr th {\n",
       "        vertical-align: top;\n",
       "    }\n",
       "\n",
       "    .dataframe thead th {\n",
       "        text-align: right;\n",
       "    }\n",
       "</style>\n",
       "<table border=\"1\" class=\"dataframe\">\n",
       "  <thead>\n",
       "    <tr style=\"text-align: right;\">\n",
       "      <th></th>\n",
       "      <th>State</th>\n",
       "      <th>City</th>\n",
       "      <th>Pollutant</th>\n",
       "      <th>Avg</th>\n",
       "      <th>Max</th>\n",
       "      <th>Min</th>\n",
       "      <th>Date</th>\n",
       "    </tr>\n",
       "  </thead>\n",
       "  <tbody>\n",
       "    <tr>\n",
       "      <th>0</th>\n",
       "      <td>Andhra_Pradesh</td>\n",
       "      <td>Amaravati</td>\n",
       "      <td>PM2.5</td>\n",
       "      <td>30</td>\n",
       "      <td>70</td>\n",
       "      <td>10</td>\n",
       "      <td>2021-12-07 10:00:00</td>\n",
       "    </tr>\n",
       "    <tr>\n",
       "      <th>7</th>\n",
       "      <td>Andhra_Pradesh</td>\n",
       "      <td>Rajamahendravaram</td>\n",
       "      <td>PM2.5</td>\n",
       "      <td>35</td>\n",
       "      <td>88</td>\n",
       "      <td>15</td>\n",
       "      <td>2021-12-07 17:00:00</td>\n",
       "    </tr>\n",
       "    <tr>\n",
       "      <th>14</th>\n",
       "      <td>Andhra_Pradesh</td>\n",
       "      <td>Tirupati</td>\n",
       "      <td>PM2.5</td>\n",
       "      <td>122</td>\n",
       "      <td>179</td>\n",
       "      <td>60</td>\n",
       "      <td>2021-12-08 00:00:00</td>\n",
       "    </tr>\n",
       "    <tr>\n",
       "      <th>21</th>\n",
       "      <td>Andhra_Pradesh</td>\n",
       "      <td>Visakhapatnam</td>\n",
       "      <td>PM2.5</td>\n",
       "      <td>39</td>\n",
       "      <td>75</td>\n",
       "      <td>21</td>\n",
       "      <td>2021-12-08 07:00:00</td>\n",
       "    </tr>\n",
       "    <tr>\n",
       "      <th>28</th>\n",
       "      <td>Arunachal_Pradesh</td>\n",
       "      <td>Naharlagun</td>\n",
       "      <td>PM2.5</td>\n",
       "      <td>NA</td>\n",
       "      <td>NA</td>\n",
       "      <td>NA</td>\n",
       "      <td>2021-12-08 14:00:00</td>\n",
       "    </tr>\n",
       "  </tbody>\n",
       "</table>\n",
       "</div>"
      ],
      "text/plain": [
       "                State               City Pollutant  Avg  Max Min  \\\n",
       "0      Andhra_Pradesh          Amaravati     PM2.5   30   70  10   \n",
       "7      Andhra_Pradesh  Rajamahendravaram     PM2.5   35   88  15   \n",
       "14     Andhra_Pradesh           Tirupati     PM2.5  122  179  60   \n",
       "21     Andhra_Pradesh      Visakhapatnam     PM2.5   39   75  21   \n",
       "28  Arunachal_Pradesh         Naharlagun     PM2.5   NA   NA  NA   \n",
       "\n",
       "                  Date  \n",
       "0  2021-12-07 10:00:00  \n",
       "7  2021-12-07 17:00:00  \n",
       "14 2021-12-08 00:00:00  \n",
       "21 2021-12-08 07:00:00  \n",
       "28 2021-12-08 14:00:00  "
      ]
     },
     "execution_count": 103,
     "metadata": {},
     "output_type": "execute_result"
    }
   ],
   "source": [
    "ts.head()"
   ]
  },
  {
   "cell_type": "code",
   "execution_count": 104,
   "id": "4489d26d-3f2a-48cc-8237-12a958d7c5a5",
   "metadata": {},
   "outputs": [
    {
     "name": "stdout",
     "output_type": "stream",
     "text": [
      "<class 'pandas.core.frame.DataFrame'>\n",
      "Int64Index: 122 entries, 0 to 822\n",
      "Data columns (total 2 columns):\n",
      " #   Column  Non-Null Count  Dtype         \n",
      "---  ------  --------------  -----         \n",
      " 0   Date    122 non-null    datetime64[ns]\n",
      " 1   Max     122 non-null    object        \n",
      "dtypes: datetime64[ns](1), object(1)\n",
      "memory usage: 2.9+ KB\n"
     ]
    }
   ],
   "source": [
    "ts2 = ts[[\"Date\", \"Max\"]]\n",
    "ts2.info()"
   ]
  },
  {
   "cell_type": "code",
   "execution_count": 105,
   "id": "69875bf4-408a-41cf-b1af-8cd3f8fd5cc6",
   "metadata": {},
   "outputs": [],
   "source": [
    "ts2 = ts2[ts2['Max'] != 'NA']\n",
    "ts2['Max'] = ts2[\"Max\"].astype('float32')"
   ]
  },
  {
   "cell_type": "code",
   "execution_count": 106,
   "id": "862e2884-5bcb-47f8-9156-89e9e1085616",
   "metadata": {},
   "outputs": [
    {
     "data": {
      "text/html": [
       "<div>\n",
       "<style scoped>\n",
       "    .dataframe tbody tr th:only-of-type {\n",
       "        vertical-align: middle;\n",
       "    }\n",
       "\n",
       "    .dataframe tbody tr th {\n",
       "        vertical-align: top;\n",
       "    }\n",
       "\n",
       "    .dataframe thead th {\n",
       "        text-align: right;\n",
       "    }\n",
       "</style>\n",
       "<table border=\"1\" class=\"dataframe\">\n",
       "  <thead>\n",
       "    <tr style=\"text-align: right;\">\n",
       "      <th></th>\n",
       "      <th>Max</th>\n",
       "    </tr>\n",
       "    <tr>\n",
       "      <th>Date</th>\n",
       "      <th></th>\n",
       "    </tr>\n",
       "  </thead>\n",
       "  <tbody>\n",
       "    <tr>\n",
       "      <th>2021-12-07 10:00:00</th>\n",
       "      <td>70.0</td>\n",
       "    </tr>\n",
       "    <tr>\n",
       "      <th>2021-12-07 17:00:00</th>\n",
       "      <td>88.0</td>\n",
       "    </tr>\n",
       "    <tr>\n",
       "      <th>2021-12-08 00:00:00</th>\n",
       "      <td>179.0</td>\n",
       "    </tr>\n",
       "    <tr>\n",
       "      <th>2021-12-08 07:00:00</th>\n",
       "      <td>75.0</td>\n",
       "    </tr>\n",
       "    <tr>\n",
       "      <th>2021-12-09 03:00:00</th>\n",
       "      <td>320.0</td>\n",
       "    </tr>\n",
       "    <tr>\n",
       "      <th>...</th>\n",
       "      <td>...</td>\n",
       "    </tr>\n",
       "    <tr>\n",
       "      <th>2022-01-09 07:00:00</th>\n",
       "      <td>344.0</td>\n",
       "    </tr>\n",
       "    <tr>\n",
       "      <th>2022-01-09 14:00:00</th>\n",
       "      <td>322.0</td>\n",
       "    </tr>\n",
       "    <tr>\n",
       "      <th>2022-01-09 21:00:00</th>\n",
       "      <td>118.0</td>\n",
       "    </tr>\n",
       "    <tr>\n",
       "      <th>2022-01-10 04:00:00</th>\n",
       "      <td>85.0</td>\n",
       "    </tr>\n",
       "    <tr>\n",
       "      <th>2022-01-10 09:00:00</th>\n",
       "      <td>27.0</td>\n",
       "    </tr>\n",
       "  </tbody>\n",
       "</table>\n",
       "<p>115 rows × 1 columns</p>\n",
       "</div>"
      ],
      "text/plain": [
       "                       Max\n",
       "Date                      \n",
       "2021-12-07 10:00:00   70.0\n",
       "2021-12-07 17:00:00   88.0\n",
       "2021-12-08 00:00:00  179.0\n",
       "2021-12-08 07:00:00   75.0\n",
       "2021-12-09 03:00:00  320.0\n",
       "...                    ...\n",
       "2022-01-09 07:00:00  344.0\n",
       "2022-01-09 14:00:00  322.0\n",
       "2022-01-09 21:00:00  118.0\n",
       "2022-01-10 04:00:00   85.0\n",
       "2022-01-10 09:00:00   27.0\n",
       "\n",
       "[115 rows x 1 columns]"
      ]
     },
     "execution_count": 106,
     "metadata": {},
     "output_type": "execute_result"
    }
   ],
   "source": [
    "ts2.set_index('Date')"
   ]
  },
  {
   "cell_type": "code",
   "execution_count": 107,
   "id": "33137bb5-4cc2-40aa-a7a0-93685549a397",
   "metadata": {},
   "outputs": [
    {
     "data": {
      "image/png": "[encoded data removed]",
      "text/plain": [
       "<Figure size 1080x432 with 1 Axes>"
      ]
     },
     "metadata": {
      "needs_background": "light"
     },
     "output_type": "display_data"
    }
   ],
   "source": [
    "import matplotlib.pyplot as plt\n",
    "import plotly.express as px\n",
    "import seaborn as sns\n",
    "\n",
    "plt.figure(figsize=(15,6))\n",
    "plt.plot(ts2['Date'], ts2['Max'])\n",
    "plt.xlabel(\"Date\")\n",
    "plt.ylabel(\"PM2.5 Level Max\") \n",
    "plt.title(\"India Air Index Quality\");"
   ]
  },
  {
   "cell_type": "code",
   "execution_count": 108,
   "id": "c1498bd9-cb11-44a0-b21c-b2164056ff5b",
   "metadata": {},
   "outputs": [],
   "source": [
    "from statsmodels.tsa.ar_model import AutoReg\n",
    "from sklearn.linear_model import LinearRegression\n",
    "from sklearn.metrics import mean_absolute_error\n",
    "from statsmodels.graphics.tsaplots import plot_acf, plot_pacf\n",
    "from statsmodels.tsa.arima.model import ARIMA"
   ]
  },
  {
   "cell_type": "code",
   "execution_count": 109,
   "id": "6aa9483b-38d7-4b9e-ab50-451ede3e6231",
   "metadata": {},
   "outputs": [
    {
     "data": {
      "image/png": "[encoded data removed]",
      "text/plain": [
       "<Figure size 1080x432 with 1 Axes>"
      ]
     },
     "metadata": {
      "needs_background": "light"
     },
     "output_type": "display_data"
    }
   ],
   "source": [
    "fig, ax = plt.subplots(figsize=(15,6))\n",
    "plot_acf(ts2['Max'],lags=40, ax=ax)\n",
    "plt.xlabel(\"Lag \")\n",
    "plt.ylabel(\"Correlation Coeffiecient\") \n",
    "plt.title(\"India Air Index Quality, ACF\");"
   ]
  },
  {
   "cell_type": "code",
   "execution_count": 110,
   "id": "0f61ef46-24b1-43d8-ab8d-7ab59e2e9d61",
   "metadata": {},
   "outputs": [
    {
     "data": {
      "image/png": "[encoded data removed]",
      "text/plain": [
       "<Figure size 1080x432 with 1 Axes>"
      ]
     },
     "metadata": {
      "needs_background": "light"
     },
     "output_type": "display_data"
    }
   ],
   "source": [
    "fig, ax = plt.subplots(figsize=(15,6))\n",
    "plot_pacf(ts2['Max'],lags=40, ax=ax)\n",
    "plt.xlabel(\"Lag \")\n",
    "plt.ylabel(\"Correlation Coeffiecient\") \n",
    "plt.title(\"India Air Index Quality, PACF\");"
   ]
  },
  {
   "cell_type": "code",
   "execution_count": 111,
   "id": "f3c68698-b9df-4509-a8e0-8959ad01756a",
   "metadata": {},
   "outputs": [],
   "source": [
    "# split\n",
    "from sklearn.model_selection import train_test_split\n",
    "\n",
    "X_train, X_test, y_train, y_test = train_test_split(ts2[\"Max\"], ts2[\"Date\"], test_size=0.2, random_state=42)"
   ]
  },
  {
   "cell_type": "code",
   "execution_count": 112,
   "id": "a38877d4-8da4-4048-96d4-8b3ecb415a20",
   "metadata": {},
   "outputs": [
    {
     "name": "stdout",
     "output_type": "stream",
     "text": [
      "X_train: (92,)\n",
      "X_test: (23,)\n",
      "y_train: (92,)\n",
      "y_test: (23,)\n"
     ]
    }
   ],
   "source": [
    "print(\"X_train:\",X_train.shape)\n",
    "print(\"X_test:\",X_test.shape)\n",
    "print(\"y_train:\",y_train.shape)\n",
    "print(\"y_test:\",y_test.shape)"
   ]
  },
  {
   "cell_type": "code",
   "execution_count": 113,
   "id": "d14a70e2-77b6-44ed-9dfa-ff565549f2a1",
   "metadata": {},
   "outputs": [
    {
     "name": "stdout",
     "output_type": "stream",
     "text": [
      "Mean PM2.5 Max reading 229.81521606445312\n",
      "Baseline MAE:  110.25803408415422\n"
     ]
    }
   ],
   "source": [
    "# Baseline\n",
    "\n",
    "X_train_mean = X_train.mean()\n",
    "X_pred_baseline = [X_train_mean] * len(X_train)\n",
    "mae_baseline = mean_absolute_error(X_train, X_pred_baseline)\n",
    "\n",
    "print(\"Mean PM2.5 Max reading\", X_train_mean)\n",
    "print(\"Baseline MAE: \", mae_baseline)"
   ]
  },
  {
   "cell_type": "code",
   "execution_count": 114,
   "id": "040485de-fbcf-40f6-be2d-56c2a9ce89ee",
   "metadata": {},
   "outputs": [
    {
     "name": "stderr",
     "output_type": "stream",
     "text": [
      "C:\\ProgramData\\Anaconda3\\lib\\site-packages\\statsmodels\\tsa\\base\\tsa_model.py:578: ValueWarning: An unsupported index was provided and will be ignored when e.g. forecasting.\n",
      "  warnings.warn('An unsupported index was provided and will be'\n",
      "C:\\ProgramData\\Anaconda3\\lib\\site-packages\\statsmodels\\tsa\\base\\tsa_model.py:578: ValueWarning: An unsupported index was provided and will be ignored when e.g. forecasting.\n",
      "  warnings.warn('An unsupported index was provided and will be'\n",
      "C:\\ProgramData\\Anaconda3\\lib\\site-packages\\statsmodels\\tsa\\base\\tsa_model.py:578: ValueWarning: An unsupported index was provided and will be ignored when e.g. forecasting.\n",
      "  warnings.warn('An unsupported index was provided and will be'\n",
      "C:\\ProgramData\\Anaconda3\\lib\\site-packages\\statsmodels\\tsa\\base\\tsa_model.py:578: ValueWarning: An unsupported index was provided and will be ignored when e.g. forecasting.\n",
      "  warnings.warn('An unsupported index was provided and will be'\n",
      "C:\\ProgramData\\Anaconda3\\lib\\site-packages\\statsmodels\\tsa\\base\\tsa_model.py:578: ValueWarning: An unsupported index was provided and will be ignored when e.g. forecasting.\n",
      "  warnings.warn('An unsupported index was provided and will be'\n",
      "C:\\ProgramData\\Anaconda3\\lib\\site-packages\\statsmodels\\tsa\\base\\tsa_model.py:578: ValueWarning: An unsupported index was provided and will be ignored when e.g. forecasting.\n",
      "  warnings.warn('An unsupported index was provided and will be'\n",
      "C:\\ProgramData\\Anaconda3\\lib\\site-packages\\statsmodels\\tsa\\base\\tsa_model.py:578: ValueWarning: An unsupported index was provided and will be ignored when e.g. forecasting.\n",
      "  warnings.warn('An unsupported index was provided and will be'\n",
      "C:\\ProgramData\\Anaconda3\\lib\\site-packages\\statsmodels\\tsa\\base\\tsa_model.py:578: ValueWarning: An unsupported index was provided and will be ignored when e.g. forecasting.\n",
      "  warnings.warn('An unsupported index was provided and will be'\n",
      "C:\\ProgramData\\Anaconda3\\lib\\site-packages\\statsmodels\\tsa\\base\\tsa_model.py:578: ValueWarning: An unsupported index was provided and will be ignored when e.g. forecasting.\n",
      "  warnings.warn('An unsupported index was provided and will be'\n",
      "C:\\ProgramData\\Anaconda3\\lib\\site-packages\\statsmodels\\tsa\\base\\tsa_model.py:578: ValueWarning: An unsupported index was provided and will be ignored when e.g. forecasting.\n",
      "  warnings.warn('An unsupported index was provided and will be'\n",
      "C:\\ProgramData\\Anaconda3\\lib\\site-packages\\statsmodels\\tsa\\base\\tsa_model.py:578: ValueWarning: An unsupported index was provided and will be ignored when e.g. forecasting.\n",
      "  warnings.warn('An unsupported index was provided and will be'\n",
      "C:\\ProgramData\\Anaconda3\\lib\\site-packages\\statsmodels\\tsa\\base\\tsa_model.py:578: ValueWarning: An unsupported index was provided and will be ignored when e.g. forecasting.\n",
      "  warnings.warn('An unsupported index was provided and will be'\n",
      "C:\\ProgramData\\Anaconda3\\lib\\site-packages\\statsmodels\\tsa\\base\\tsa_model.py:578: ValueWarning: An unsupported index was provided and will be ignored when e.g. forecasting.\n",
      "  warnings.warn('An unsupported index was provided and will be'\n",
      "C:\\ProgramData\\Anaconda3\\lib\\site-packages\\statsmodels\\tsa\\base\\tsa_model.py:578: ValueWarning: An unsupported index was provided and will be ignored when e.g. forecasting.\n",
      "  warnings.warn('An unsupported index was provided and will be'\n",
      "C:\\ProgramData\\Anaconda3\\lib\\site-packages\\statsmodels\\tsa\\base\\tsa_model.py:578: ValueWarning: An unsupported index was provided and will be ignored when e.g. forecasting.\n",
      "  warnings.warn('An unsupported index was provided and will be'\n",
      "C:\\ProgramData\\Anaconda3\\lib\\site-packages\\statsmodels\\tsa\\base\\tsa_model.py:578: ValueWarning: An unsupported index was provided and will be ignored when e.g. forecasting.\n",
      "  warnings.warn('An unsupported index was provided and will be'\n",
      "C:\\ProgramData\\Anaconda3\\lib\\site-packages\\statsmodels\\tsa\\base\\tsa_model.py:578: ValueWarning: An unsupported index was provided and will be ignored when e.g. forecasting.\n",
      "  warnings.warn('An unsupported index was provided and will be'\n",
      "C:\\ProgramData\\Anaconda3\\lib\\site-packages\\statsmodels\\tsa\\base\\tsa_model.py:578: ValueWarning: An unsupported index was provided and will be ignored when e.g. forecasting.\n",
      "  warnings.warn('An unsupported index was provided and will be'\n",
      "C:\\ProgramData\\Anaconda3\\lib\\site-packages\\statsmodels\\tsa\\base\\tsa_model.py:578: ValueWarning: An unsupported index was provided and will be ignored when e.g. forecasting.\n",
      "  warnings.warn('An unsupported index was provided and will be'\n",
      "C:\\ProgramData\\Anaconda3\\lib\\site-packages\\statsmodels\\tsa\\base\\tsa_model.py:578: ValueWarning: An unsupported index was provided and will be ignored when e.g. forecasting.\n",
      "  warnings.warn('An unsupported index was provided and will be'\n",
      "C:\\ProgramData\\Anaconda3\\lib\\site-packages\\statsmodels\\tsa\\base\\tsa_model.py:578: ValueWarning: An unsupported index was provided and will be ignored when e.g. forecasting.\n",
      "  warnings.warn('An unsupported index was provided and will be'\n",
      "C:\\ProgramData\\Anaconda3\\lib\\site-packages\\statsmodels\\tsa\\base\\tsa_model.py:578: ValueWarning: An unsupported index was provided and will be ignored when e.g. forecasting.\n",
      "  warnings.warn('An unsupported index was provided and will be'\n",
      "C:\\ProgramData\\Anaconda3\\lib\\site-packages\\statsmodels\\tsa\\base\\tsa_model.py:578: ValueWarning: An unsupported index was provided and will be ignored when e.g. forecasting.\n",
      "  warnings.warn('An unsupported index was provided and will be'\n",
      "C:\\ProgramData\\Anaconda3\\lib\\site-packages\\statsmodels\\tsa\\base\\tsa_model.py:578: ValueWarning: An unsupported index was provided and will be ignored when e.g. forecasting.\n",
      "  warnings.warn('An unsupported index was provided and will be'\n",
      "C:\\ProgramData\\Anaconda3\\lib\\site-packages\\statsmodels\\tsa\\base\\tsa_model.py:578: ValueWarning: An unsupported index was provided and will be ignored when e.g. forecasting.\n",
      "  warnings.warn('An unsupported index was provided and will be'\n",
      "C:\\ProgramData\\Anaconda3\\lib\\site-packages\\statsmodels\\tsa\\base\\tsa_model.py:578: ValueWarning: An unsupported index was provided and will be ignored when e.g. forecasting.\n",
      "  warnings.warn('An unsupported index was provided and will be'\n",
      "C:\\ProgramData\\Anaconda3\\lib\\site-packages\\statsmodels\\tsa\\base\\tsa_model.py:578: ValueWarning: An unsupported index was provided and will be ignored when e.g. forecasting.\n",
      "  warnings.warn('An unsupported index was provided and will be'\n",
      "C:\\ProgramData\\Anaconda3\\lib\\site-packages\\statsmodels\\tsa\\base\\tsa_model.py:578: ValueWarning: An unsupported index was provided and will be ignored when e.g. forecasting.\n",
      "  warnings.warn('An unsupported index was provided and will be'\n",
      "C:\\ProgramData\\Anaconda3\\lib\\site-packages\\statsmodels\\tsa\\base\\tsa_model.py:578: ValueWarning: An unsupported index was provided and will be ignored when e.g. forecasting.\n",
      "  warnings.warn('An unsupported index was provided and will be'\n",
      "C:\\ProgramData\\Anaconda3\\lib\\site-packages\\statsmodels\\tsa\\base\\tsa_model.py:578: ValueWarning: An unsupported index was provided and will be ignored when e.g. forecasting.\n",
      "  warnings.warn('An unsupported index was provided and will be'\n"
     ]
    },
    {
     "data": {
      "text/plain": [
       "1    133.791835\n",
       "2    138.432545\n",
       "3    139.247555\n",
       "4    143.253109\n",
       "5    140.159895\n",
       "Name: mae, dtype: float64"
      ]
     },
     "execution_count": 114,
     "metadata": {},
     "output_type": "execute_result"
    }
   ],
   "source": [
    "import warnings\n",
    "\n",
    "warnings.simplefilter(action='ignore', category=FutureWarning)\n",
    "\n",
    "import numpy as np\n",
    "\n",
    "p_params  = range(1, 31)\n",
    "maes = []\n",
    "for p in p_params:\n",
    "    model = AutoReg(X_train, lags=p).fit()\n",
    "    \n",
    "    y_pred = model.predict(start=p, end=len(X_train)-1)\n",
    "    \n",
    "    y_pred = y_pred[~np.isnan(y_pred)]\n",
    "    \n",
    "    X_trimmed = X_train.iloc[p:p+len(y_pred)]\n",
    "    \n",
    "    mae=mean_absolute_error(X_trimmed, y_pred)\n",
    "    maes.append(mae)\n",
    "    \n",
    "mae_series = pd.Series(maes, name='mae', index=p_params)\n",
    "mae_series.head()"
   ]
  },
  {
   "cell_type": "code",
   "execution_count": 115,
   "id": "382450a9-816e-4af6-b43c-0638ab43c3c7",
   "metadata": {},
   "outputs": [
    {
     "data": {
      "text/plain": [
       "22    198.936365\n",
       "24    191.386194\n",
       "21    165.948055\n",
       "29    148.689744\n",
       "4     143.253109\n",
       "Name: mae, dtype: float64"
      ]
     },
     "execution_count": 115,
     "metadata": {},
     "output_type": "execute_result"
    }
   ],
   "source": [
    "mae_series.sort_values(ascending=False)[:5]"
   ]
  },
  {
   "cell_type": "code",
   "execution_count": 125,
   "id": "0c94ea56-ac0f-4215-b9f4-d958e21f1b4e",
   "metadata": {},
   "outputs": [
    {
     "name": "stderr",
     "output_type": "stream",
     "text": [
      "C:\\ProgramData\\Anaconda3\\lib\\site-packages\\statsmodels\\tsa\\base\\tsa_model.py:578: ValueWarning: An unsupported index was provided and will be ignored when e.g. forecasting.\n",
      "  warnings.warn('An unsupported index was provided and will be'\n"
     ]
    },
    {
     "data": {
      "text/plain": [
       "306   NaN\n",
       "775   NaN\n",
       "546   NaN\n",
       "114   NaN\n",
       "208   NaN\n",
       "Name: residuals, dtype: float64"
      ]
     },
     "execution_count": 125,
     "metadata": {},
     "output_type": "execute_result"
    }
   ],
   "source": [
    "best_p = 5\n",
    "\n",
    "best_model = AutoReg(X_train, lags=best_p).fit()\n",
    "\n",
    "X_train_resid = best_model.resid\n",
    "X_train_resid.name = 'residuals'\n",
    "X_train_resid.head()"
   ]
  },
  {
   "cell_type": "code",
   "execution_count": 126,
   "id": "2cb66fd9-0349-4646-adcf-1b4e2c78e86e",
   "metadata": {},
   "outputs": [
    {
     "data": {
      "text/plain": [
       "<AxesSubplot:>"
      ]
     },
     "execution_count": 126,
     "metadata": {},
     "output_type": "execute_result"
    },
    {
     "data": {
      "image/png": "[encoded data removed]",
      "text/plain": [
       "<Figure size 1080x432 with 1 Axes>"
      ]
     },
     "metadata": {
      "needs_background": "light"
     },
     "output_type": "display_data"
    }
   ],
   "source": [
    "fig, ax =plt.subplots(figsize=(15,6))\n",
    "X_train_resid.hist()\n"
   ]
  },
  {
   "cell_type": "code",
   "execution_count": 130,
   "id": "41a80cc6-801d-42fd-ab7d-8a78b7155840",
   "metadata": {},
   "outputs": [
    {
     "data": {
      "image/png": "[encoded data removed]",
      "text/plain": [
       "<Figure size 1080x432 with 1 Axes>"
      ]
     },
     "metadata": {
      "needs_background": "light"
     },
     "output_type": "display_data"
    }
   ],
   "source": [
    "fig, ax =plt.subplots(figsize=(15,6))\n",
    "plot_pacf(X_train_resid, ax=ax);"
   ]
  },
  {
   "cell_type": "code",
   "execution_count": null,
   "id": "6103ddb9-b663-4229-85d9-912e7aaa3849",
   "metadata": {},
   "outputs": [],
   "source": [
    "# Evaluate\n",
    "\n",
    "y_pred_wfv = pd.Series()\n",
    "history = X_train.copy()\n",
    "for i in range(len(y_test)):\n",
    "    model = AutoReg(history, lags=5).fit()\n",
    "    next_pred = model.forecast()\n",
    "    y_pred_wfv = y_pred_wfv.append(next_pred)\n",
    "    history = history.append(y_test[next_pred.index])\n",
    "    \n",
    "y_pred_wfv.name = \"prediction\"\n",
    "y_pred_wfv.index.name = \"timestamp\"\n",
    "y_pred_wfv.head()"
   ]
  }
 ],
 "metadata": {
  "kernelspec": {
   "display_name": "Python 3",
   "language": "python",
   "name": "python3"
  },
  "language_info": {
   "codemirror_mode": {
    "name": "ipython",
    "version": 3
   },
   "file_extension": ".py",
   "mimetype": "text/x-python",
   "name": "python",
   "nbconvert_exporter": "python",
   "pygments_lexer": "ipython3",
   "version": "3.8.8"
  }
 },
 "nbformat": 4,
 "nbformat_minor": 5
}
